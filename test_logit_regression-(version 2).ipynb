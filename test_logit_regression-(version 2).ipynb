{
 "metadata": {
  "name": ""
 },
 "nbformat": 3,
 "nbformat_minor": 0,
 "worksheets": [
  {
   "cells": [
    {
     "cell_type": "code",
     "collapsed": false,
     "input": [
      "#imports\n",
      "import pandas as pd\n",
      "import numpy as np\n",
      "import sqlite3\n",
      "import pandas.io.sql as sql\n",
      "from sklearn import linear_model, cross_validation, preprocessing"
     ],
     "language": "python",
     "metadata": {},
     "outputs": [],
     "prompt_number": 1
    },
    {
     "cell_type": "code",
     "collapsed": false,
     "input": [
      "connection = sqlite3.connect('predecessor.db')\n",
      "pred_df = sql.read_frame(sql='SELECT * FROM prediction_data',con=connection)"
     ],
     "language": "python",
     "metadata": {},
     "outputs": [],
     "prompt_number": 2
    },
    {
     "cell_type": "code",
     "collapsed": false,
     "input": [
      "pred_df.head(10)"
     ],
     "language": "python",
     "metadata": {},
     "outputs": [
      {
       "output_type": "stream",
       "stream": "stderr",
       "text": [
        "/Users/waymaniac/anaconda/lib/python2.7/site-packages/pandas/core/config.py:570: DeprecationWarning: height has been deprecated.\n",
        "\n",
        "  warnings.warn(d.msg, DeprecationWarning)\n",
        "/Users/waymaniac/anaconda/lib/python2.7/site-packages/pandas/core/config.py:570: DeprecationWarning: height has been deprecated.\n",
        "\n",
        "  warnings.warn(d.msg, DeprecationWarning)\n",
        "/Users/waymaniac/anaconda/lib/python2.7/site-packages/pandas/core/config.py:570: DeprecationWarning: height has been deprecated.\n",
        "\n",
        "  warnings.warn(d.msg, DeprecationWarning)\n"
       ]
      },
      {
       "html": [
        "<pre>\n",
        "&lt;class 'pandas.core.frame.DataFrame'&gt;\n",
        "Int64Index: 10 entries, 0 to 9\n",
        "Data columns (total 22 columns):\n",
        "trip_id                         10  non-null values\n",
        "service_id                      10  non-null values\n",
        "bus_id                          10  non-null values\n",
        "arrival_time                    10  non-null values\n",
        "stop_id                         10  non-null values\n",
        "estimated_boardings             10  non-null values\n",
        "dwell_time                      10  non-null values\n",
        "headway                         10  non-null values\n",
        "delay                           10  non-null values\n",
        "demand                          10  non-null values\n",
        "obs_pred_trip_id                10  non-null values\n",
        "obs_pred_service_id             10  non-null values\n",
        "obs_pred_bus_id                 10  non-null values\n",
        "obs_pred_arrival_time           10  non-null values\n",
        "obs_pred_stop_id                10  non-null values\n",
        "obs_pred_estimated_boardings    10  non-null values\n",
        "obs_pred_dwell_time             10  non-null values\n",
        "obs_pred_headway                10  non-null values\n",
        "obs_pred_delay                  10  non-null values\n",
        "obs_pred_demand                 10  non-null values\n",
        "sched_pred_trip_id              10  non-null values\n",
        "response                        10  non-null values\n",
        "dtypes: float64(13), int64(7), object(2)\n",
        "</pre>"
       ],
       "metadata": {},
       "output_type": "pyout",
       "prompt_number": 3,
       "text": [
        "<class 'pandas.core.frame.DataFrame'>\n",
        "Int64Index: 10 entries, 0 to 9\n",
        "Data columns (total 22 columns):\n",
        "trip_id                         10  non-null values\n",
        "service_id                      10  non-null values\n",
        "bus_id                          10  non-null values\n",
        "arrival_time                    10  non-null values\n",
        "stop_id                         10  non-null values\n",
        "estimated_boardings             10  non-null values\n",
        "dwell_time                      10  non-null values\n",
        "headway                         10  non-null values\n",
        "delay                           10  non-null values\n",
        "demand                          10  non-null values\n",
        "obs_pred_trip_id                10  non-null values\n",
        "obs_pred_service_id             10  non-null values\n",
        "obs_pred_bus_id                 10  non-null values\n",
        "obs_pred_arrival_time           10  non-null values\n",
        "obs_pred_stop_id                10  non-null values\n",
        "obs_pred_estimated_boardings    10  non-null values\n",
        "obs_pred_dwell_time             10  non-null values\n",
        "obs_pred_headway                10  non-null values\n",
        "obs_pred_delay                  10  non-null values\n",
        "obs_pred_demand                 10  non-null values\n",
        "sched_pred_trip_id              10  non-null values\n",
        "response                        10  non-null values\n",
        "dtypes: float64(13), int64(7), object(2)"
       ]
      }
     ],
     "prompt_number": 3
    },
    {
     "cell_type": "code",
     "collapsed": false,
     "input": [
      "clf = linear_model.LogisticRegression()"
     ],
     "language": "python",
     "metadata": {},
     "outputs": [],
     "prompt_number": 4
    },
    {
     "cell_type": "code",
     "collapsed": false,
     "input": [
      "#cat_feat = ['trip_id','service_id','stop_id']\n",
      "cat_feat=['stop_id']\n",
      "cont_feat = ['headway','delay','demand','dwell_time']\n",
      "cont_feat = cont_feat + [\"obs_pred_\"+x for x in  cont_feat]\n",
      "print cont_feat"
     ],
     "language": "python",
     "metadata": {},
     "outputs": [
      {
       "output_type": "stream",
       "stream": "stdout",
       "text": [
        "['headway', 'delay', 'demand', 'dwell_time', 'obs_pred_headway', 'obs_pred_delay', 'obs_pred_demand', 'obs_pred_dwell_time']\n"
       ]
      }
     ],
     "prompt_number": 5
    },
    {
     "cell_type": "code",
     "collapsed": false,
     "input": [
      "feat = cat_feat + cont_feat\n",
      "print feat"
     ],
     "language": "python",
     "metadata": {},
     "outputs": [
      {
       "output_type": "stream",
       "stream": "stdout",
       "text": [
        "['stop_id', 'headway', 'delay', 'demand', 'dwell_time', 'obs_pred_headway', 'obs_pred_delay', 'obs_pred_demand', 'obs_pred_dwell_time']\n"
       ]
      }
     ],
     "prompt_number": 8
    },
    {
     "cell_type": "code",
     "collapsed": false,
     "input": [
      "X = pred_df[feat].values\n",
      "Y = pred_df['response'].values"
     ],
     "language": "python",
     "metadata": {},
     "outputs": [],
     "prompt_number": 9
    },
    {
     "cell_type": "code",
     "collapsed": false,
     "input": [
      "#prepocessing to handle categorical features (i.e. stop_id)\n",
      "from sklearn.preprocessing import OneHotEncoder\n",
      "enc = OneHotEncoder(categorical_features=[0])\n",
      "enc.fit(X)"
     ],
     "language": "python",
     "metadata": {},
     "outputs": [
      {
       "metadata": {},
       "output_type": "pyout",
       "prompt_number": 15,
       "text": [
        "OneHotEncoder(categorical_features=[0], dtype=<type 'float'>, n_values='auto')"
       ]
      }
     ],
     "prompt_number": 15
    },
    {
     "cell_type": "code",
     "collapsed": false,
     "input": [
      "#make training and testing indices\n",
      "from random import shuffle\n",
      "indices = np.arange(len(pred_df.index))\n",
      "shuffle(indices)\n",
      "train = len(indices)/2\n",
      "train_ind = indices[:train]\n",
      "test_ind = indices[train:]"
     ],
     "language": "python",
     "metadata": {},
     "outputs": [],
     "prompt_number": 16
    },
    {
     "cell_type": "code",
     "collapsed": false,
     "input": [
      "Xtr = X[train_ind]\n",
      "Xte = X[test_ind]\n",
      "Ytr = Y[train_ind]\n",
      "Yte = Y[test_ind]"
     ],
     "language": "python",
     "metadata": {},
     "outputs": [],
     "prompt_number": 17
    },
    {
     "cell_type": "code",
     "collapsed": false,
     "input": [
      "clf = clf.fit(Xtr,Ytr)"
     ],
     "language": "python",
     "metadata": {},
     "outputs": [],
     "prompt_number": 18
    },
    {
     "cell_type": "code",
     "collapsed": false,
     "input": [
      "clf.score(Xte, Yte)"
     ],
     "language": "python",
     "metadata": {},
     "outputs": [
      {
       "metadata": {},
       "output_type": "pyout",
       "prompt_number": 19,
       "text": [
        "0.60217193069717312"
       ]
      }
     ],
     "prompt_number": 19
    },
    {
     "cell_type": "code",
     "collapsed": false,
     "input": [
      "clf.get_params()"
     ],
     "language": "python",
     "metadata": {},
     "outputs": [
      {
       "metadata": {},
       "output_type": "pyout",
       "prompt_number": 20,
       "text": [
        "{'C': 1.0,\n",
        " 'class_weight': None,\n",
        " 'dual': False,\n",
        " 'fit_intercept': True,\n",
        " 'intercept_scaling': 1,\n",
        " 'penalty': 'l2',\n",
        " 'random_state': None,\n",
        " 'tol': 0.0001}"
       ]
      }
     ],
     "prompt_number": 20
    },
    {
     "cell_type": "code",
     "collapsed": false,
     "input": [
      "preds = clf.predict(Xte)"
     ],
     "language": "python",
     "metadata": {},
     "outputs": [],
     "prompt_number": 21
    },
    {
     "cell_type": "code",
     "collapsed": false,
     "input": [
      "sum(np.abs(Yte-preds))"
     ],
     "language": "python",
     "metadata": {},
     "outputs": [
      {
       "metadata": {},
       "output_type": "pyout",
       "prompt_number": 22,
       "text": [
        "4799.0"
       ]
      }
     ],
     "prompt_number": 22
    },
    {
     "cell_type": "code",
     "collapsed": false,
     "input": [
      "sum(Yte)"
     ],
     "language": "python",
     "metadata": {},
     "outputs": [
      {
       "metadata": {},
       "output_type": "pyout",
       "prompt_number": 23,
       "text": [
        "7217.0"
       ]
      }
     ],
     "prompt_number": 23
    },
    {
     "cell_type": "code",
     "collapsed": false,
     "input": [
      "len(Yte)"
     ],
     "language": "python",
     "metadata": {},
     "outputs": [
      {
       "metadata": {},
       "output_type": "pyout",
       "prompt_number": 24,
       "text": [
        "12063"
       ]
      }
     ],
     "prompt_number": 24
    },
    {
     "cell_type": "code",
     "collapsed": false,
     "input": [
      "clf.score(Xte,Yte)"
     ],
     "language": "python",
     "metadata": {},
     "outputs": [
      {
       "metadata": {},
       "output_type": "pyout",
       "prompt_number": 25,
       "text": [
        "0.60217193069717312"
       ]
      }
     ],
     "prompt_number": 25
    },
    {
     "cell_type": "code",
     "collapsed": false,
     "input": [
      "scores = cross_validation.cross_val_score(clf,X,Y,cv=5)\n",
      "print scores"
     ],
     "language": "python",
     "metadata": {},
     "outputs": [
      {
       "output_type": "stream",
       "stream": "stdout",
       "text": [
        "[ 0.59440415  0.59544041  0.59336788  0.59316062  0.59253886]\n"
       ]
      }
     ],
     "prompt_number": 26
    },
    {
     "cell_type": "code",
     "collapsed": false,
     "input": [
      "=print(\"Accuracy: %0.2f (+/- %0.2f)\" % (scores.mean(), scores.std() * 2))"
     ],
     "language": "python",
     "metadata": {},
     "outputs": [
      {
       "output_type": "stream",
       "stream": "stdout",
       "text": [
        "Accuracy: 0.59 (+/- 0.00)\n"
       ]
      }
     ],
     "prompt_number": 18
    },
    {
     "cell_type": "code",
     "collapsed": false,
     "input": [
      "#from sklearn.cross_validation import LeaveOneOut\n",
      "#cv = LeaveOneOut(n=10)\n",
      "#scores = cross_validation.cross_val_score(clf,X,Y,cv=cv)\n",
      "#print scores\n"
     ],
     "language": "python",
     "metadata": {},
     "outputs": [],
     "prompt_number": 19
    },
    {
     "cell_type": "code",
     "collapsed": false,
     "input": [
      "#bootstrapping\n",
      "bs = cross_validation.Bootstrap(n=len(Y),n_iter=5)"
     ],
     "language": "python",
     "metadata": {},
     "outputs": [],
     "prompt_number": 27
    },
    {
     "cell_type": "code",
     "collapsed": false,
     "input": [
      "scores = cross_validation.cross_val_score(clf,X,Y,cv=bs)\n",
      "print scores"
     ],
     "language": "python",
     "metadata": {},
     "outputs": [
      {
       "output_type": "stream",
       "stream": "stdout",
       "text": [
        "[ 0.57826231  0.58655281  0.59384845  0.58431438  0.5913613 ]\n"
       ]
      }
     ],
     "prompt_number": 28
    },
    {
     "cell_type": "code",
     "collapsed": false,
     "input": [
      "from sklearn import tree\n",
      "rf_clf = tree.DecisionTreeRegressor(max_depth = 30)\n",
      "rf_clf = rf_clf.fit(Xtr,Ytr)\n",
      "rf_preds = rf_clf.predict(Xte)\n",
      "rf_error = sum(np.abs(Yte-rf_preds))\n",
      "print rf_error"
     ],
     "language": "python",
     "metadata": {},
     "outputs": [
      {
       "output_type": "stream",
       "stream": "stdout",
       "text": [
        "4039.55717812\n"
       ]
      }
     ],
     "prompt_number": 21
    },
    {
     "cell_type": "code",
     "collapsed": false,
     "input": [
      "rf_errors = []\n",
      "for k in np.arange(1,11):\n",
      "    rf_clf = tree.DecisionTreeRegressor(max_depth = k*10)\n",
      "    rf_clf = rf_clf.fit(Xtr,Ytr)\n",
      "    rf_preds = rf_clf.predict(Xte)\n",
      "    error = sum(np.abs(Yte-rf_preds))  \n",
      "    rf_errors.append(error)"
     ],
     "language": "python",
     "metadata": {},
     "outputs": [],
     "prompt_number": 22
    },
    {
     "cell_type": "code",
     "collapsed": false,
     "input": [
      "print rf_errors"
     ],
     "language": "python",
     "metadata": {},
     "outputs": [
      {
       "output_type": "stream",
       "stream": "stdout",
       "text": [
        "[4594.2873254053629, 4040.1352467830006, 4001.8071781159992, 4027.0, 3988.0, 4008.0, 4001.0, 4009.0, 3996.0, 4015.0]\n"
       ]
      }
     ],
     "prompt_number": 23
    },
    {
     "cell_type": "code",
     "collapsed": false,
     "input": [
      "#prediction rate\n",
      "(len(Yte)-np.array(rf_errors))/len(Yte)"
     ],
     "language": "python",
     "metadata": {},
     "outputs": [
      {
       "metadata": {},
       "output_type": "pyout",
       "prompt_number": 24,
       "text": [
        "array([ 0.61914223,  0.66508039,  0.66825772,  0.66616928,  0.6694023 ,\n",
        "        0.66774434,  0.66832463,  0.66766144,  0.66873912,  0.66716406])"
       ]
      }
     ],
     "prompt_number": 24
    },
    {
     "cell_type": "code",
     "collapsed": false,
     "input": [
      "rf_clf = tree.DecisionTreeRegressor(max_depth = 30)\n",
      "rf_clf = rf_clf.fit(Xtr,Ytr)\n",
      "rf_preds = rf_clf.predict(Xte)\n",
      "error = sum(np.abs(Yte-rf_preds))  \n",
      "print error\n",
      "print rf_clf.score(Xte,Yte)"
     ],
     "language": "python",
     "metadata": {},
     "outputs": [
      {
       "output_type": "stream",
       "stream": "stdout",
       "text": [
        "4017.05717812\n",
        "-0.356857998185\n"
       ]
      }
     ],
     "prompt_number": 25
    },
    {
     "cell_type": "code",
     "collapsed": false,
     "input": [
      "scores = cross_validation.cross_val_score(rf_clf, X,Y,cv=5)\n",
      "print scores"
     ],
     "language": "python",
     "metadata": {},
     "outputs": [
      {
       "output_type": "stream",
       "stream": "stdout",
       "text": [
        "[-0.77061621 -0.38775732 -0.34907003 -0.63893007 -0.54888015]\n"
       ]
      }
     ],
     "prompt_number": 26
    },
    {
     "cell_type": "code",
     "collapsed": false,
     "input": [],
     "language": "python",
     "metadata": {},
     "outputs": [],
     "prompt_number": 26
    },
    {
     "cell_type": "code",
     "collapsed": false,
     "input": [],
     "language": "python",
     "metadata": {},
     "outputs": []
    }
   ],
   "metadata": {}
  }
 ]
}